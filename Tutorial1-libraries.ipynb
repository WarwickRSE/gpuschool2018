{
 "cells": [
  {
   "cell_type": "markdown",
   "metadata": {},
   "source": [
    "Introduction to GPU Programming Summer School\n",
    "========================\n",
    "\n",
    "D. Quigley, University of Warwick\n",
    "\n",
    "---\n",
    "\n",
    "# Tutorial 1: GPU Libraries"
   ]
  },
  {
   "cell_type": "markdown",
   "metadata": {},
   "source": [
    "The computationally intensive part of many scientific codes reduces to standard numerical operations, e.g. manipulation of large matrices/vectors, performing Fourier transforms, dealing with sparse linear algebra etc.\n",
    "\n",
    "In the traditional High Performance Computing (HPC) realm of compiled C/C++/Fortran code, there exists a suite of standard optimised libraries for such things. The CUDA toolkit provides GPU-enabled versions of these, and [CuPy](https://docs.cupy.dev) provides a NumPy-like interface to thoes CUDA toolkit libraries.\n",
    "\n",
    "The advantage of this approach is that no real knowledge of GPU programming is required, we simply replace calls to standard CPU functions with GPU-accelerated equivalents. The disadvantage is that we only accelerate part of the code, and may suffer performance overheads associated with transering data between host and device when we reach parts of the code which can't run on the GPU. We'll explore this penalty below.\n",
    "\n",
    "---\n"
   ]
  },
  {
   "cell_type": "markdown",
   "metadata": {},
   "source": [
    "## cuBLAS"
   ]
  },
  {
   "cell_type": "markdown",
   "metadata": {},
   "source": [
    "BLAS is the suite of [Basic Linear Algebra Subprograms](http://www.netlib.org/blas/). These come in three levels, for both real and complex data types. \n",
    "\n",
    "**Level 1** : Vector-vector operations \n",
    "\n",
    "**Level 2** : Matrix-vector operations\n",
    "\n",
    "**Level 3** : Matrix-matrix operations\n",
    "\n",
    "On any well-managed HPC system, the local installations of numpy and scipy packages will be built on top of BLAS routines (written in C or Fortran) that have been optimised for the particular hardware in use. Optimised BLAS implementations for CPUs include [OpenBLAS](https://www.openblas.net/), [Atlas](http://math-atlas.sourceforge.net/), [Intel MKL](https://software.intel.com/en-us/mkl) and [AMD AOCL](https://developer.amd.com/amd-aocl/).\n",
    "\n",
    "The CUDA toolkit includes [cuBLAS](https://developer.nvidia.com/cublas), a GPU-accelerated BLAS implementation. Let's compare how this performs in comparison to numpy. If you're interested, the numpy implementation on the SCRTP desktops has been built using OpenBLAS, but optimised only for the most common Intel CPU features to ensure compatibility. CPU performace will not be great.\n",
    "\n",
    "We'll be using [CuPy](https://docs.cupy.dev) which provides NumPy-like interfaces to CuBLAS and other Nvidia libraries. \n",
    "\n",
    "[CuPy Linear Algebra documentation](https://docs.cupy.dev/en/stable/reference/linalg.html)\n",
    "\n",
    "Let's illustrate this with a simple matrix-matrix multiplication example. The BLAS routine `dgemm` (double precision, general matrix-matrix multiply) performs the following operation.\n",
    "\n",
    "$$ C = \\alpha AB + \\beta C $$\n",
    "\n",
    "where $A$, $B$ and $C$ are matrices and $\\alpha$ and $\\beta$ are scalars. Other specialised routines are available for matrices with particular structure (e.g. banded, tri-diagonal, symmetric) but we won't worry about that today. In CuPy this BLAS routine is called transparently when we perform a matrix-matrix multiply.\n",
    "\n",
    "First let's perform an operation using standard NumPy code on the CPU for reference."
   ]
  },
  {
   "cell_type": "code",
   "execution_count": 1,
   "metadata": {},
   "outputs": [],
   "source": [
    "import numpy as np     # NumPy\n",
    "import cupy  as cp     # Python interface to cuBLAS and more\n",
    "\n",
    "# Set size of matrix to work with\n",
    "size = 3\n",
    "\n",
    "# Create some square matrices and fill them with random numbers\n",
    "A = np.random.rand(size, size)\n",
    "B = np.random.rand(size, size)\n",
    "\n",
    "# Alpha (we'll leave beta as zero)\n",
    "alpha = 0.5\n",
    "\n",
    "# Perform the operation described above using standard numpy and store as C_np\n",
    "C_np = alpha * np.matmul(A, B) "
   ]
  },
  {
   "cell_type": "markdown",
   "metadata": {},
   "source": [
    "To make sure we're working with the same random data when performing the calculation on the GPU, we'll copy the arrays A and B from host RAM into the GPU device memory. We can then perform the multiplication on the GPU using CuPy, and copy the result back for comparison."
   ]
  },
  {
   "cell_type": "code",
   "execution_count": 2,
   "metadata": {},
   "outputs": [],
   "source": [
    "A_d = cp.asarray(A)   # Create A_d as a copy of A in device memory.\n",
    "B_d = cp.asarray(B)   # Do the same for B\n",
    "\n",
    "C_d = alpha*cp.matmul(A_d, B_d)   # Perform the multiplication and store resul tin C_d\n",
    "\n",
    "C = cp.asnumpy(C_d)               # Copy the result C_d back to C in host RAM"
   ]
  },
  {
   "cell_type": "markdown",
   "metadata": {},
   "source": [
    "If we didn't want to make sure the both computations were using the same random data then we could have created the random arrays A_d and B_d directly on the device using `cp.random.rand(size, size)`.\n",
    "\n",
    "Let's be proper programmers and check that both computations gave the same result."
   ]
  },
  {
   "cell_type": "code",
   "execution_count": 3,
   "metadata": {},
   "outputs": [
    {
     "name": "stdout",
     "output_type": "stream",
     "text": [
      "Results match!\n"
     ]
    }
   ],
   "source": [
    "comp = abs(C - C_np)\n",
    "if  (comp > np.finfo(float).eps).any() : \n",
    "    print(\"Results do not match!\")\n",
    "else:\n",
    "    print(\"Results match!\")"
   ]
  },
  {
   "cell_type": "markdown",
   "metadata": {},
   "source": [
    "The next thing to investigate is whether using CuPy on the GPU is any faster than using NumPy on the host CPU. Let's try a more substantial matrix and time how long numpy takes to perform the same operation as above."
   ]
  },
  {
   "cell_type": "code",
   "execution_count": 4,
   "metadata": {},
   "outputs": [
    {
     "name": "stdout",
     "output_type": "stream",
     "text": [
      "Matrix multiplication using NumPy (host CPU) took :  14.432462994591333  milliseconds.\n"
     ]
    }
   ],
   "source": [
    "from timeit import default_timer as timer  # Timer\n",
    "\n",
    "size = 1000\n",
    "\n",
    "# Create some square matrices and fill them with random numbers\n",
    "A = np.random.rand(size,size)\n",
    "B = np.random.rand(size,size)\n",
    "\n",
    "# What is the time before we start the operation?\n",
    "t1 = timer()\n",
    "\n",
    "# Perform the operation described above using standard numpy\n",
    "C_np = alpha * np.matmul(A,B) \n",
    "\n",
    "# What is the time after we finish the operation in milliseconds?\n",
    "t2 = timer()\n",
    "\n",
    "# Print time taken\n",
    "print(\"Matrix multiplication using NumPy (host CPU) took : \",1000*(t2-t1),\" milliseconds.\")"
   ]
  },
  {
   "cell_type": "markdown",
   "metadata": {},
   "source": [
    "To time how long cuBLAS takes to do the same thing we'll use its own timer function."
   ]
  },
  {
   "cell_type": "code",
   "execution_count": 5,
   "metadata": {},
   "outputs": [
    {
     "name": "stdout",
     "output_type": "stream",
     "text": [
      "Matrix multiplication using cuBLAS took :  17.931242007762194  milliseconds.\n"
     ]
    }
   ],
   "source": [
    "# First event before we call gemm\n",
    "t1 = timer()\n",
    "\n",
    "# Do the multiplication\n",
    "A_d = cp.asarray(A)             # Copy A to device\n",
    "B_d = cp.asarray(B)             # Copy B to device\n",
    "C_d = alpha*cp.matmul(A_d, B_d) # Perform the multiplication \n",
    "C   = cp.asnumpy(C_d)           # Copy the result back to host RAM \n",
    "\n",
    "# Second event after we call gemm\n",
    "t2 = timer()\n",
    "\n",
    "# Print time taken\n",
    "print(\"Matrix multiplication using cuBLAS took : \",1000*(t2-t1),\" milliseconds.\")"
   ]
  },
  {
   "cell_type": "markdown",
   "metadata": {},
   "source": [
    "When I did this using the K20c in brigitte.csc.warwick.ac.uk the GPU was only slightly faster for 1000x1000 matrices. We'll explore how this speedup varies with matrix size using the GPUs in cluster a little later - timings measured inside Jupyter notebooks tend not to be reliable.\n",
    "\n",
    "The above test might not be representitive of a real GPU-accelerated Python script. A lot of the time measured may be taken up by copying the data to and from the GPU, which will be slow compared to working with data which already exists on the GPU. \n",
    "\n",
    "Instead, lets create the random arrays directly on the GPU and time that seperately from the multiplication."
   ]
  },
  {
   "cell_type": "code",
   "execution_count": 6,
   "metadata": {},
   "outputs": [
    {
     "name": "stdout",
     "output_type": "stream",
     "text": [
      "Creating device arrays took :  26.376282999990508  milliseconds.\n"
     ]
    }
   ],
   "source": [
    "t1 = timer()\n",
    "\n",
    "# Create new device arrays \n",
    "d_A = cp.random.rand(size,size)\n",
    "d_B = cp.random.rand(size,size)\n",
    "\n",
    "t2 = timer()\n",
    "\n",
    "# Print time taken\n",
    "print(\"Creating device arrays took : \",1000*(t2-t1),\" milliseconds.\")"
   ]
  },
  {
   "cell_type": "markdown",
   "metadata": {},
   "source": [
    "Now time just the multiplication of these arrays on the GPU device."
   ]
  },
  {
   "cell_type": "code",
   "execution_count": 7,
   "metadata": {},
   "outputs": [
    {
     "name": "stdout",
     "output_type": "stream",
     "text": [
      "Matrix multiplication on device took :  0.7159020024118945  milliseconds.\n"
     ]
    }
   ],
   "source": [
    "t1 = timer()\n",
    "\n",
    "C_d = alpha*cp.matmul(A_d, B_d) # Perform the multiplication \n",
    "\n",
    "t2 = timer()\n",
    "\n",
    "# Print time taken\n",
    "print(\"Matrix multiplication on device took : \",1000*(t2-t1),\" milliseconds.\")"
   ]
  },
  {
   "cell_type": "markdown",
   "metadata": {},
   "source": [
    "Don't read too much into these timings - these can be quite unreliable when running inside Jupyter notebooks, however it will probably be clear that most of the time taken in our original test was the copying of data. If we work entirely on the GPU then things are much faster.\n",
    "\n",
    "If we must copy data from the host, then best performance will be acheived by doing as much work as possible on the arrays while they are on the device, minimising copies between host and device memory."
   ]
  },
  {
   "cell_type": "markdown",
   "metadata": {},
   "source": [
    "## cuBLAS exercises\n",
    "\n",
    "You should now have everything you need to cannibalise the code snippets above and construct some python scripts which you can run outside of this notebook environment on the HPC GPU nodes. **Please do not run matrices larger than 1000x1000 in this notebook**. On the HPC nodes you should take timings at several matrix sizes as an average over 10 or so runs.\n",
    "\n",
    "Questions to explore:\n",
    "\n",
    "* How large a matrix is needed before the multiplication is 10x faster on the GPU compared to numpy code? \n",
    "* What is the largest speedup you can obtain?\n",
    "* How does the speedup from BLAS level 1 and 2 routines compare to BLAS level 3?\n",
    "* What is the variability in your timings, what gives rise to this?\n",
    "* (Advanced) Is the numpy code making use of multiple CPU cores on the HPC node?\n",
    "* (Advanced) How does the cuBLAS/numpy performance compare to using scipy.linalg.blas.dgemm?\n",
    "* (Advanced) How does performance change if using single rather than double precision?\n",
    "* (Very Advanced) How does the shape of the matrix change performance. Why?\n",
    "\n",
    "Tutors will be available during the session to help you answer these questions.\n",
    "\n",
    "---"
   ]
  },
  {
   "cell_type": "markdown",
   "metadata": {},
   "source": [
    "## cuFFT\n",
    "\n",
    "cuFFT provides GPU-enabled functions to perform the Fast Fourier Transform on 1D, 2D and 3D data. It can be used as a drop-in replacement for (e.g.) numpy.fft routines.\n",
    "\n",
    "Again we'll be using [CuPy](https://docs.cupy.dev) which provides NumPy-like interfaces to CuFFT. We will not need to call cuFFT directly.\n",
    "\n",
    "[CuPy Fourier Transform documentation](https://docs.cupy.dev/en/stable/reference/fft.html)\n",
    "\n",
    "To illustrate how it can be used, we'll look at a trivial image processing example. Let's say we need to obscure the identity of a porg (for GDPR reasons) by blurring an image. We can apply a blur filter by convoluting the image with a 2D Gaussian function.\n",
    "\n",
    "A convolution can be performed with the following steps:\n",
    "\n",
    "1. Fourier transform the image and the Gaussian.\n",
    "2. Multiply each element in the Fourier-transformed image by the corresponding element in the Fourier transformed Gaussian.\n",
    "3. Inverse Fourier transform the result.\n",
    "\n",
    "i.e. a convolution becomes a multiplication in Fourier space. This is illustrated using numpy functions and the Python Image Library (PIL) below."
   ]
  },
  {
   "cell_type": "code",
   "execution_count": 8,
   "metadata": {
    "scrolled": true
   },
   "outputs": [
    {
     "data": {
      "image/png": "[encoded data removed]",
      "text/plain": [
       "<Figure size 432x432 with 1 Axes>"
      ]
     },
     "metadata": {
      "needs_background": "light"
     },
     "output_type": "display_data"
    }
   ],
   "source": [
    "from PIL import Image    # Import the Python Image Library\n",
    "\n",
    "# We want to use matplot lib to show images inline\n",
    "import matplotlib.pyplot as plt\n",
    "%matplotlib inline\n",
    "\n",
    "# Open an image file and convert to single colour (greyscale)\n",
    "img = Image.open('porg.jpg').convert('L')\n",
    "\n",
    "# For now we'll work with a resized version of this image\n",
    "dim = 2000\n",
    "img_resized = img.resize((dim,dim))\n",
    "\n",
    "# ... and convert it into a numpy array of floats\n",
    "img_data = np.asarray(img_resized,dtype=float)\n",
    "\n",
    "# Show the porg\n",
    "plt.figure(figsize = [6, 6])\n",
    "plt.imshow(img_data,cmap='gray');"
   ]
  },
  {
   "cell_type": "markdown",
   "metadata": {},
   "source": [
    "Image taken from https://people.com/movies/star-wars-porgs/ (Ed Miller/2017 LucasFilm Ltd).\n"
   ]
  },
  {
   "cell_type": "code",
   "execution_count": 9,
   "metadata": {},
   "outputs": [],
   "source": [
    "# We want to convolve this image with a Gaussian, so we need a 2D numpy array \n",
    "# representing a Gaussian function with some blurring width\n",
    "width =  0.2 \n",
    "\n",
    "# Define a Gaussian in 1D on a grid with the same number of points as the image\n",
    "domain = np.linspace(-5,5,dim)\n",
    "gauss = np.exp(-0.5*domain**2/(width*width)) \n",
    "    \n",
    "# Roll this around the 1D boundary so that the Gaussian is centered on grid 0,0\n",
    "shift = int(dim/2)\n",
    "gauss = np.roll(gauss,shift)\n",
    "\n",
    "# Turn into a 2D Gaussian\n",
    "gauss2D = gauss[:,np.newaxis] * gauss[np.newaxis,:]"
   ]
  },
  {
   "cell_type": "markdown",
   "metadata": {},
   "source": [
    "First let's do the convolution on the CPU using standard numpy functions so we have something to compare against."
   ]
  },
  {
   "cell_type": "code",
   "execution_count": 10,
   "metadata": {},
   "outputs": [
    {
     "name": "stdout",
     "output_type": "stream",
     "text": [
      "Forward fast Fourier Transforms took :  282.01117100252304  milliseconds.\n"
     ]
    }
   ],
   "source": [
    "# Fourier transform the image and the Gaussian using standard numpy functions\n",
    "tot_t = 0.0\n",
    "t1 = timer()\n",
    "\n",
    "# Note that for NumPy we call fft2 for any type of 2D input data, real or complex.\n",
    "img_fft   = np.fft.fft2(img_data)\n",
    "gauss_fft = np.fft.fft2(gauss2D)\n",
    "\n",
    "t2 = timer()\n",
    "\n",
    "# Print time taken\n",
    "f_fft_t = (t2-t1)\n",
    "print(\"Forward fast Fourier Transforms took : \",1000*f_fft_t,\" milliseconds.\")"
   ]
  },
  {
   "cell_type": "markdown",
   "metadata": {},
   "source": [
    "We now need to multiple each element in img_fft by the corresponding element in gauss_fft."
   ]
  },
  {
   "cell_type": "code",
   "execution_count": 11,
   "metadata": {},
   "outputs": [
    {
     "name": "stdout",
     "output_type": "stream",
     "text": [
      "Multiplication took :  27.800317999208346  milliseconds.\n"
     ]
    }
   ],
   "source": [
    "# Multiplication in Fourier space - note multiply not matmul\n",
    "t1 = timer()\n",
    "\n",
    "# Multiply corresponding elements together\n",
    "img_conv = np.multiply(img_fft, gauss_fft)\n",
    "\n",
    "t2 = timer()\n",
    "mult_t = t2 - t1 \n",
    "print(\"Multiplication took : \",1000*mult_t,\" milliseconds.\")"
   ]
  },
  {
   "cell_type": "markdown",
   "metadata": {},
   "source": [
    "Transform the result back to real space."
   ]
  },
  {
   "cell_type": "code",
   "execution_count": 12,
   "metadata": {},
   "outputs": [
    {
     "name": "stdout",
     "output_type": "stream",
     "text": [
      "Inverse fast Fourier Transform took    :  148.15485301369336  milliseconds.\n",
      "Total time taken for convolution (CPU) :  457.96634201542474  milliseconds.\n"
     ]
    }
   ],
   "source": [
    "# Transform the result back into real space using the inverse transform\n",
    "t1 = timer()\n",
    "\n",
    "img_ifft = np.fft.ifft2(img_conv)\n",
    "\n",
    "t2 = timer()\n",
    "\n",
    "# Print time taken\n",
    "i_fft_t = t2 - t1 \n",
    "print(\"Inverse fast Fourier Transform took    : \",1000*(t2-t1),\" milliseconds.\")\n",
    "\n",
    "tot_t = f_fft_t + mult_t + i_fft_t\n",
    "print(\"Total time taken for convolution (CPU) : \",1000*tot_t,\" milliseconds.\")"
   ]
  },
  {
   "cell_type": "markdown",
   "metadata": {},
   "source": [
    "The result of the convolution should now be stored in img_ifft."
   ]
  },
  {
   "cell_type": "code",
   "execution_count": 13,
   "metadata": {},
   "outputs": [
    {
     "data": {
      "image/png": "[encoded data removed]",
      "text/plain": [
       "<Figure size 432x432 with 1 Axes>"
      ]
     },
     "metadata": {
      "needs_background": "light"
     },
     "output_type": "display_data"
    }
   ],
   "source": [
    "# Display the result of \"blurring the porg\"\n",
    "plt.figure(figsize = [6, 6])\n",
    "plt.imshow(img_ifft.real,cmap='gray');"
   ]
  },
  {
   "cell_type": "markdown",
   "metadata": {},
   "source": [
    "Now let's do the same operation using the cuFFT library via pyculib. "
   ]
  },
  {
   "cell_type": "code",
   "execution_count": 14,
   "metadata": {},
   "outputs": [],
   "source": [
    "# NumPy FFT routes are agnostic to whether we pass in real or complex data. However in CuPy we \n",
    "# need to call different functions for each. To keep things as generic as possible we'll work\n",
    "# with complex data by adding a zero imaginary part to our image and Gaussian arrays. \n",
    "img_data_complex = img_data + 1j * np.zeros((dim,dim))\n",
    "gauss2D_complex  = gauss2D  + 1j * np.zeros((dim,dim))"
   ]
  },
  {
   "cell_type": "markdown",
   "metadata": {},
   "source": [
    "This is a situation where we _must_ copy the data to the device. The GPU device cannot read data from file. We have to copy the data read by the host CPU code above onto the GPU before we can use it there."
   ]
  },
  {
   "cell_type": "code",
   "execution_count": 15,
   "metadata": {},
   "outputs": [
    {
     "name": "stdout",
     "output_type": "stream",
     "text": [
      "Forward fast Fourier Transforms using cuFFT took :  197.52371600770857  milliseconds.\n"
     ]
    }
   ],
   "source": [
    "t1 = timer()\n",
    "\n",
    "# Copy the two input arrays to equivalent arrays on the device\n",
    "img_data_d = cp.asarray(img_data_complex)\n",
    "gauss2D_d  = cp.asarray(gauss2D_complex)\n",
    "\n",
    "# Use CuPy fft2 function to Fourier Transform these \n",
    "img_fft_d   = cp.fft.fft2(img_data_d)\n",
    "gauss_fft_d = cp.fft.fft2(gauss2D_d)\n",
    "\n",
    "# Copy the result back to NumPy arrays on the host\n",
    "img_fft = cp.asnumpy(img_fft_d)\n",
    "gaus_fft = cp.asnumpy(gauss_fft_d)\n",
    "\n",
    "t2 = timer()\n",
    "\n",
    "# Print time taken\n",
    "d_f_fft_t = t2 - t1\n",
    "print(\"Forward fast Fourier Transforms using cuFFT took : \",1000*d_f_fft_t,\" milliseconds.\")"
   ]
  },
  {
   "cell_type": "markdown",
   "metadata": {},
   "source": [
    "This is likely faster than on the CPU even though we incur the penalty of copying input data from host to device, and then the output from device to host."
   ]
  },
  {
   "cell_type": "code",
   "execution_count": 16,
   "metadata": {},
   "outputs": [
    {
     "name": "stdout",
     "output_type": "stream",
     "text": [
      "Multiplication took :  45.872101007262245  milliseconds.\n"
     ]
    }
   ],
   "source": [
    "# Multiplication in Fourier space on the CPU\n",
    "t1 = timer()\n",
    "\n",
    "# Multiply corresponding elements together\n",
    "img_conv = np.multiply(img_fft, gauss_fft)\n",
    "\n",
    "t2 = timer()\n",
    "mult_t = t2-t1 \n",
    "print(\"Multiplication took : \",1000*mult_t,\" milliseconds.\")"
   ]
  },
  {
   "cell_type": "code",
   "execution_count": 17,
   "metadata": {},
   "outputs": [
    {
     "name": "stdout",
     "output_type": "stream",
     "text": [
      "Inverse fast Fourier Transform using cuFFT took :  51.19027500040829  milliseconds.\n",
      "Total time taken for convolution (GPU)          :  294.5860920153791  milliseconds.\n"
     ]
    }
   ],
   "source": [
    "# Transform back into real space\n",
    "\n",
    "t1 = timer()\n",
    "\n",
    "# Copy img_conv to device\n",
    "img_conv_d = cp.asarray(img_conv)\n",
    "\n",
    "# inverse Fourier transform on the device\n",
    "img_ifft_d = cp.fft.ifft2(img_conv_d)\n",
    "\n",
    "# Copy output back to host\n",
    "img_ifft = cp.asnumpy(img_ifft_d)\n",
    "\n",
    "t2 = timer()\n",
    "\n",
    "d_i_fft_t = t2 - t1\n",
    "print(\"Inverse fast Fourier Transform using cuFFT took : \",1000*d_i_fft_t ,\" milliseconds.\")\n",
    "\n",
    "tot_t = d_f_fft_t + mult_t + d_i_fft_t\n",
    "print(\"Total time taken for convolution (GPU)          : \",1000*tot_t,\" milliseconds.\")"
   ]
  },
  {
   "cell_type": "code",
   "execution_count": 18,
   "metadata": {},
   "outputs": [
    {
     "data": {
      "image/png": "[encoded data removed]",
      "text/plain": [
       "<Figure size 432x432 with 1 Axes>"
      ]
     },
     "metadata": {
      "needs_background": "light"
     },
     "output_type": "display_data"
    }
   ],
   "source": [
    "# Display the result of \"blurring the porg\" using the GPU\n",
    "plt.figure(figsize = [6, 6])\n",
    "plt.imshow(img_ifft.real,cmap='gray');"
   ]
  },
  {
   "cell_type": "markdown",
   "metadata": {},
   "source": [
    "This probably already demonstrates a speedup, but we can do much better. We can do a lot more on the CPU than just call routines which implement Fourier Transforms and matrix-matrix multiplies. \n",
    "\n",
    "If we could perform the Fourier space multiplication of the two arrays on the GPU then we'd avoid having to copy them back to the host first, and also the copy of the result back to the device to be inverse transformed. Tomorrow we'll learn how to do exactly that by writing our own _kernels_. However CuPy also contains functionality which allows us to do this easily. We can call `cp.multiply(img_fft_d, gauss_fft_d)` directly on the device arrays."
   ]
  },
  {
   "cell_type": "code",
   "execution_count": 21,
   "metadata": {},
   "outputs": [
    {
     "name": "stdout",
     "output_type": "stream",
     "text": [
      "Total time taken for convolution (GPU) :  70.14083200192545  milliseconds.\n"
     ]
    }
   ],
   "source": [
    "# Start the timer\n",
    "t1 = timer()\n",
    "\n",
    "# Copy the two input arrays to equivalent arrays on the device\n",
    "img_data_d = cp.asarray(img_data_complex)\n",
    "gauss2D_d  = cp.asarray(gauss2D_complex)\n",
    "\n",
    "# Use CuPy fft2 function to Fourier Transform these \n",
    "img_fft_d   = cp.fft.fft2(img_data_d)\n",
    "gauss_fft_d = cp.fft.fft2(gauss2D_d)\n",
    "\n",
    "# Now use cp.multiply to perform multiplication in Fourier space\n",
    "img_conv_d = cp.multiply(img_fft_d, gauss_fft_d)\n",
    "\n",
    "# inverse Fourier transform on the device\n",
    "img_ifft_d = cp.fft.ifft2(img_conv_d)\n",
    "\n",
    "# Copy output back to host so we can plot it\n",
    "img_ifft = cp.asnumpy(img_ifft_d)\n",
    "\n",
    "t2 = timer()\n",
    "\n",
    "# Print time taken\n",
    "print(\"Total time taken for convolution (GPU) : \",1000*(t2-t1),\" milliseconds.\")"
   ]
  },
  {
   "cell_type": "markdown",
   "metadata": {},
   "source": [
    "You should see that this is now _much_ faster than using the CPU. Possibly close to a factor of 10. A big chunk of the time taken previously was in copying the data between host and device, which we've now reduced significantly by doing all operations on the device. "
   ]
  },
  {
   "cell_type": "code",
   "execution_count": 22,
   "metadata": {},
   "outputs": [
    {
     "data": {
      "image/png": "[encoded data removed]",
      "text/plain": [
       "<Figure size 432x432 with 1 Axes>"
      ]
     },
     "metadata": {
      "needs_background": "light"
     },
     "output_type": "display_data"
    }
   ],
   "source": [
    "# Check that we still goet the correct result\n",
    "plt.figure(figsize = [6, 6])\n",
    "plt.imshow(img_ifft.real,cmap='gray');"
   ]
  },
  {
   "cell_type": "markdown",
   "metadata": {},
   "source": [
    "## cuFFT exercises\n",
    "\n",
    "As with the matrix exercises, you  now have everything you need to cannibalise the code snippets above and construct some python scripts which you can run outside of this notebook environment on the Tinis GPU node. As before, you should average over several runs to evaluate performance.\n",
    "\n",
    "Things to investigate:\n",
    "\n",
    "* How does the performance of the CuFFT compare to NumPy as a function of image size? Try using the full 2000x2000 pixel image without resizing.\n",
    "\n",
    "* (Advanced) Investigate the [Python interface to FFTW](https://github.com/pyFFTW/pyFFTW). How does this perform in comparison to NumPy and cuFFT?  Does the GPU only appear fast here because the NumPy FFT implementation is sub-optimal? You might need to install pyFFTW using `pip install --user pyfftw` inside the environment you launched the notebook from.\n",
    "\n",
    "* (Advanced) As with the matrix example, how does performance change if using single precision arithmetic?\n",
    "\n",
    "* (Very advanced) Can you GPU accelerate applying a Gaussian filter to the original *colour* image by constructing a batch of FFTS, one for each colour? You might need the [cuFFT documentaion](https://docs.nvidia.com/cuda/cufft/index.html) as well as that for the Python interface.\n",
    "\n",
    "Tutors will be available during the session to help you answer these questions.\n"
   ]
  },
  {
   "cell_type": "markdown",
   "metadata": {},
   "source": [
    "## Other libraries\n",
    "\n",
    "Other Nvidia GPU accelerated libraries exist which can be called via CuPy. For example...\n",
    "\n",
    "* [cuRAND](https://docs.cupy.dev/en/stable/reference/random.html)   : Part of the Nvidia toolkit. Fast random number generation on GPUs for applications which need large numbers of samples \n",
    "* [cuDNN](https://developer.nvidia.com/cudnn)         : Nvidia Deep Neural Network Library (used by e.g. [TensorFlow](https://www.tensorflow.org/)) \n",
    "\n",
    "There are also many 3rd-party and open source libraries which might be useful to your research, some of which are available via environment modules on the SCRTP computers."
   ]
  }
 ],
 "metadata": {
  "kernelspec": {
   "display_name": "Python 3",
   "language": "python",
   "name": "python3"
  },
  "language_info": {
   "codemirror_mode": {
    "name": "ipython",
    "version": 3
   },
   "file_extension": ".py",
   "mimetype": "text/x-python",
   "name": "python",
   "nbconvert_exporter": "python",
   "pygments_lexer": "ipython3",
   "version": "3.8.6"
  }
 },
 "nbformat": 4,
 "nbformat_minor": 2
}
