{
 "cells": [
  {
   "cell_type": "markdown",
   "metadata": {},
   "source": [
    "Introduction to GPU Programming Summer School\n",
    "========================\n",
    "\n",
    "D. Quigley, University of Warwick\n",
    "\n",
    "---\n",
    "\n",
    "# Tutorial 2: Kernels"
   ]
  },
  {
   "cell_type": "markdown",
   "metadata": {},
   "source": [
    "## What is a kernel?\n",
    "\n",
    "* #### A function which operates on an element of data and is executed by a CUDA thread\n",
    "* #### We launch enough threads such that the operation is performed on all elements\n",
    "* #### Threads are mapped onto our data via a grid of thread blocks\n",
    "* #### Each instances of the function (thread) must be able to identify its location in the grid \n",
    "* #### Kernels are launched/invoked by the host, but run on the GPU\\*\n",
    "\n",
    "(* Newer version of CUDA allow kernels to launch kernels, but numba doesn't support this yet)\n",
    "\n",
    "---\n",
    "\n",
    "## Kernel limitations\n",
    "\n",
    "* #### Can only return data via arguments to the kernel function - no return value\n",
    "* #### Kernels cannot perform input or output - no printing or reading/writing files\n",
    "* #### Exception handling inside kernels is limited\n",
    "* #### Only a subset of the host language (e.g. Python or C) is supported\n",
    "* #### Threads execute in lockstep within **warps** of 32 threads which map onto multiprocessors (groups of cores)\n",
    "\n",
    "\n",
    "The final limitation might seem unimportant, but this means that anything which causes one thread in a warp to wait (e.g. for data to arrive from memory) will cause all threads to wait. Similary branches, (if statements) are problematic. Each thread must execute both branches and then decide which result to keep which may subvert traditional expectations of how to optimise code.\n",
    "\n",
    "---\n",
    "\n",
    "## Thread blocks/grids\n",
    "\n",
    "* #### Threads within a block can make use of some *shared device memory* - more on that in tutorial 3\n",
    "* #### All threads can read/write to global device memory. This is where all our device arrays have been so far\n",
    "* #### There are hardware limitations on the number of threads per block\n",
    "* #### The grid can be 1D, 2D or 3D\n",
    "\n",
    "See https://numba.pydata.org/numba-doc/dev/cuda/cudapysupported.html for supported features. In particular note that numpy functions which dynamically create new arrays are not allowed in kernels."
   ]
  },
  {
   "cell_type": "markdown",
   "metadata": {},
   "source": [
    "## Trivial Example\n",
    "\n",
    "This all makes more sense with an example. \n",
    "\n",
    "Let's start with the kernel we need to improve the porg example from Tutorial 2. Recall that we want to multiple each element in a 2D matrix by the corresponding element in another matrix. This suggests we use a 2D grid of threads with one thread per matrix element.\n",
    "\n",
    "Our kernel looks like this:"
   ]
  },
  {
   "cell_type": "code",
   "execution_count": 1,
   "metadata": {},
   "outputs": [],
   "source": [
    "import numpy as np\n",
    "from numba import cuda\n",
    "\n",
    "@cuda.jit\n",
    "def multiply_elements(a, b, c):\n",
    "    \"\"\"\n",
    "    Element-wise multiplication of a and b stored in c.\n",
    "    \"\"\"\n",
    "\n",
    "    # What elements of a,b and c should this thread operate on?\n",
    "    tx = cuda.threadIdx.x + cuda.blockDim.x * cuda.blockIdx.x\n",
    "    ty = cuda.threadIdx.y + cuda.blockDim.y * cuda.blockIdx.y\n",
    "\n",
    "    # Better make sure the indices tx adn ty are inside the array!\n",
    "    if ty < a.shape[0] and tx < a.shape[1]:\n",
    "        c[ty,tx] = a[ty,tx] * b[ty,tx]"
   ]
  },
  {
   "cell_type": "markdown",
   "metadata": {},
   "source": [
    "We've *decorated* this function with the identifier ```@cuda.jit``` which requires some explanation. Numba contains functionality to turn python functions into complied GPU code when first invoked. This is known as \"just In time compilation\" and will be familiar to Julia fans. Note that numba can also \"jit\" functions which run on the host (CPU) which might be useful if wanting to make fair CPU vs GPU benchmarks.\n",
    "\n",
    "\n",
    "\n",
    "The next part of the function uses variables defined for us by CUDA which give each thread (i.e. instance of the function) a unique element of the thread grid to operate on...\n",
    "\n",
    "\n",
    "```python\n",
    "cuda.threadIdx.x  # Index of this thread within its block (x - direction)\n",
    "cuda.blockIdx.x   # Which block of threads is this (x - direction)\n",
    "cuda.blockDim.x   # Number of threads in each block (x - direction)\n",
    "```\n",
    "\n",
    "... plus similar in the y direction (and z if in 3D). To get the global position inside the grid we perform the computation \n",
    "\n",
    "```python\n",
    "tx = cuda.threadIdx.x + cuda.blockDim.x * cuda.blockIdx.x\n",
    "```\n",
    "\n",
    "i.e. add the thread index within the current block thread to the number of threads in all previous blocks.\n",
    "\n",
    "Finally we check that the resulting indices `tx` and `ty` will have something to operate on by comparing them to corresponding array sizes before addressing the arrays to perform the desired computation **on this single element **. Note that I'm being sloppy here and assuming somebody else has made sure `a`, `b` and `c` are all the same size/shape.\n",
    "\n",
    "\n",
    "```python\n",
    "if ty < a.shape[0] and tx < a.shape[1]:\n",
    "        c[ty,tx] = a[ty,tx] * b[ty,tx]\n",
    "```\n",
    "\n",
    "This may seem unnecessary but is essential good practice. We have to use a whole number of blocks in the grid, which can often mean we launch more threads than necessary. The extra threads shouldn't try to write to memory which lies outside of the array or they'd be overwriting other data which we might need!"
   ]
  },
  {
   "cell_type": "markdown",
   "metadata": {},
   "source": [
    "Next we need to know how to launch the kernel. Start with a trivial example using a 3x3 matrix for both of the inputs arrays such that the output should just contain the squares of the input."
   ]
  },
  {
   "cell_type": "code",
   "execution_count": 2,
   "metadata": {},
   "outputs": [],
   "source": [
    "# Create a array for the input data and copy it to the device\n",
    "a = np.array([[1, 2, 3], [4, 5, 6], [7, 8, 9]], dtype=np.float)\n",
    "d_a = cuda.to_device(a)\n",
    "\n",
    "# Create an array for the output\n",
    "d_c = cuda.device_array((3, 3),dtype=np.float)"
   ]
  },
  {
   "cell_type": "code",
   "execution_count": 3,
   "metadata": {},
   "outputs": [],
   "source": [
    "# Now launch one thread per element, passing the *device* arrays to the kernel function\n",
    "multiply_elements[(1, 1), (3, 3)](d_a, d_a, d_c)"
   ]
  },
  {
   "cell_type": "markdown",
   "metadata": {},
   "source": [
    "The function call looks like a normal python function call, but the arguments are prefixed by a 2-element list which specifies the of number of blocks in the grid (first element) and the threads per block (second argument). For our 2D array each element in the list is a tuple specifying the size in each grid direction.\n",
    "\n",
    "Here I've used one block of 3x3 threads mapping onto my 3x3 matrices. Lets check the result."
   ]
  },
  {
   "cell_type": "code",
   "execution_count": 4,
   "metadata": {},
   "outputs": [
    {
     "name": "stdout",
     "output_type": "stream",
     "text": [
      "[[  1.   4.   9.]\n",
      " [ 16.  25.  36.]\n",
      " [ 49.  64.  81.]]\n"
     ]
    }
   ],
   "source": [
    "# Copy data back from the device to the host\n",
    "c = d_c.copy_to_host()\n",
    "print(c)"
   ]
  },
  {
   "cell_type": "markdown",
   "metadata": {},
   "source": [
    "Hoorah!\n",
    "\n",
    "I might have used 9x9 blocks of 1 thread each, but for bigger problems there are some things to think about.\n",
    "\n",
    "* Threads are organised into warps of 32 - block sizes which are not a multiple of 32 will end up wasting some of a multiprocessor\n",
    "* It might be desirable to maximise block size and hence the number of threads with access to the same *shared memory* \n",
    "* Each device has a maximum number of threads allowed per block. This can be queried in CUDA C codes but for our purposes we can check [the wikipedia page on CUDA](https://en.wikipedia.org/wiki/CUDA)."
   ]
  },
  {
   "cell_type": "markdown",
   "metadata": {},
   "source": [
    "## Revenge of the Porg\n",
    "\n",
    "Let's return to our image example from tutorial 1 and roughly (i.e. inside the notebook) the time taken for the whole convolution.\n",
    "\n",
    "First we need the re-read the image and create the 2D Gaussian we want to convolute with."
   ]
  },
  {
   "cell_type": "code",
   "execution_count": 5,
   "metadata": {},
   "outputs": [],
   "source": [
    "from PIL import Image        # Import the Python Image Library\n",
    "import pyculib.fft as cufft  # Import the cuFFT library interface\n",
    "\n",
    "# Open an image file and convert to single colour (greyscale)\n",
    "img = Image.open('porg.jpg').convert('L')\n",
    "img_data = np.asarray(img,dtype=float)\n",
    "dim = img_data.shape[0]\n",
    "\n",
    "# Define the Gaussian to volume with\n",
    "width = 0.2\n",
    "domain = np.linspace(-5, 5,dim)\n",
    "gauss = np.exp(-0.5*domain**2/(width*width)) \n",
    "shift = int(dim/2)\n",
    "gauss = np.roll(gauss,shift)\n",
    "gauss2D = gauss[:,np.newaxis] * gauss[np.newaxis,:]"
   ]
  },
  {
   "cell_type": "markdown",
   "metadata": {},
   "source": [
    "Create all the arrays we need and move the input data onto the device"
   ]
  },
  {
   "cell_type": "code",
   "execution_count": 6,
   "metadata": {},
   "outputs": [],
   "source": [
    "# Create event timers\n",
    "event1 = cuda.event(timing=True)\n",
    "event2 = cuda.event(timing=True)\n",
    "\n",
    "# Make the data complex\n",
    "img_data_complex = img_data + 1j * np.zeros((dim,dim))\n",
    "gauss2D_complex = gauss2D + 1j * np.zeros((dim,dim))\n",
    "\n",
    "# Arrays to store intermediate result and final output on host\n",
    "img_fft = np.empty((dim,dim),dtype=complex)\n",
    "gauss_fft = np.empty((dim,dim),dtype=complex)\n",
    "img_ifft = np.empty((dim,dim),dtype=complex)\n",
    "\n",
    "# Put the data on the device\n",
    "d_img_data_complex = cuda.to_device(img_data_complex)\n",
    "d_gauss2D_complex = cuda.to_device(gauss2D_complex)\n",
    "\n",
    "# Create device arrays\n",
    "d_img_fft = cuda.device_array((dim,dim),dtype=np.complex)\n",
    "d_gauss_fft = cuda.device_array((dim,dim),dtype=np.complex)\n",
    "d_img_ifft = cuda.device_array((dim,dim),dtype=np.complex)"
   ]
  },
  {
   "cell_type": "markdown",
   "metadata": {},
   "source": [
    "Perform the convolution the way we did it yesterday"
   ]
  },
  {
   "cell_type": "code",
   "execution_count": 11,
   "metadata": {},
   "outputs": [
    {
     "name": "stdout",
     "output_type": "stream",
     "text": [
      "Convolution with multiplication on host took :  188.91477966308594  milliseconds.\n"
     ]
    }
   ],
   "source": [
    "event1.record()  # Start timer\n",
    "\n",
    "# FFT the two input arrays\n",
    "cufft.fft(d_img_data_complex,d_img_fft)\n",
    "cufft.fft(d_gauss2D_complex,d_gauss_fft)\n",
    "\n",
    "# Copy data back to host\n",
    "img_fft=d_img_fft.copy_to_host()\n",
    "gauss_fft = d_gauss_fft.copy_to_host()\n",
    "\n",
    "# Multiply each element in fft_img by the corresponding image in fft_gaus\n",
    "img_conv = img_fft * gauss_fft\n",
    "\n",
    "# Copy to the device\n",
    "d_img_conv = cuda.to_device(img_conv)\n",
    "\n",
    "# Inverse Fourier transform\n",
    "cufft.ifft(d_img_conv,d_img_ifft)\n",
    "        \n",
    "# Copy result back to host\n",
    "img_ifft = d_img_ifft.copy_to_host()\n",
    "\n",
    "event2.record()  # Stop timer\n",
    "\n",
    "# Elapsed time (in milliseconds)\n",
    "t = cuda.event_elapsed_time(event1,event2)\n",
    "print(\"Convolution with multiplication on host took : \",t,\" milliseconds.\")"
   ]
  },
  {
   "cell_type": "markdown",
   "metadata": {},
   "source": [
    "Now let's do the convolution using our new kernel, i.e. avoiding the need to copy data back to the host for the intermediate multiplication."
   ]
  },
  {
   "cell_type": "code",
   "execution_count": 22,
   "metadata": {},
   "outputs": [
    {
     "name": "stdout",
     "output_type": "stream",
     "text": [
      "Convolution with multiplication on device took :  65.96991729736328  milliseconds.\n"
     ]
    }
   ],
   "source": [
    "event1.record()  # Start timer\n",
    "\n",
    "# FFT the two input arrays\n",
    "cufft.fft(d_img_data_complex, d_img_fft)\n",
    "cufft.fft(d_gauss2D_complex, d_gauss_fft)\n",
    "\n",
    "# Use the kernel to multiply on the device\n",
    "threads_per_block = 32\n",
    "blocks_per_grid = dim // threads_per_block + 1\n",
    "\n",
    "multiply_elements[blocks_per_grid, threads_per_block](d_img_fft, d_gauss_fft, d_img_conv)\n",
    "\n",
    "# Inverse Fourier transform\n",
    "cufft.ifft(d_img_conv, d_img_ifft)\n",
    "        \n",
    "# Copy result back to host\n",
    "img_ifft = d_img_ifft.copy_to_host()\n",
    "\n",
    "event2.record()  # Stop timer\n",
    "\n",
    "# Elapsed time (in milliseconds)\n",
    "t = cuda.event_elapsed_time(event1,event2)\n",
    "print(\"Convolution with multiplication on device took : \",t,\" milliseconds.\")"
   ]
  },
  {
   "cell_type": "markdown",
   "metadata": {},
   "source": [
    "You might see that that is slower than our old method.\n",
    "\n",
    "BUT - remember that our kernel is compiled on first use so this slower time include the time taken to compile the kernel. Run the above cell again and you should see that there's a significant improvement and that avoiding the intermediate memory transfers between host and device has saved us a huge amount of time!\n",
    "\n",
    "Let's check the porg is OK and appropriately blurred."
   ]
  },
  {
   "cell_type": "code",
   "execution_count": 20,
   "metadata": {},
   "outputs": [
    {
     "data": {
      "image/png": "[encoded data removed]",
      "text/plain": [
       "<matplotlib.figure.Figure at 0x7f52b4247898>"
      ]
     },
     "metadata": {},
     "output_type": "display_data"
    }
   ],
   "source": [
    "import matplotlib.pyplot as plt\n",
    "%matplotlib inline\n",
    "\n",
    "# Show the porg\n",
    "plt.figure(figsize = [6, 6])\n",
    "plt.imshow(img_ifft.real,cmap='gray');"
   ]
  },
  {
   "cell_type": "markdown",
   "metadata": {},
   "source": [
    "## Exercise\n",
    "\n",
    "* Cut and paste from the above to create a script which benchmarks the two methods of performing the convolution. Gather timings on the Tinis GPU node as an average over 10 runs. Remember to exclude the first run of the kernel-based method from your average if you want to measure only execution time.\n",
    "\n",
    "* How much faster than the orignal CPU-based numpy implementation is this version?\n",
    "\n",
    "* (Advanced) Can the CPU version be made faster by 'jitting' a function for the multiplication?\n"
   ]
  },
  {
   "cell_type": "markdown",
   "metadata": {},
   "source": [
    "## Mandelbrot set"
   ]
  },
  {
   "cell_type": "markdown",
   "metadata": {},
   "source": [
    "## Conway's game of life"
   ]
  },
  {
   "cell_type": "code",
   "execution_count": null,
   "metadata": {},
   "outputs": [],
   "source": []
  }
 ],
 "metadata": {
  "kernelspec": {
   "display_name": "Python 3",
   "language": "python",
   "name": "python3"
  },
  "language_info": {
   "codemirror_mode": {
    "name": "ipython",
    "version": 3
   },
   "file_extension": ".py",
   "mimetype": "text/x-python",
   "name": "python",
   "nbconvert_exporter": "python",
   "pygments_lexer": "ipython3",
   "version": "3.6.3"
  }
 },
 "nbformat": 4,
 "nbformat_minor": 2
}
