{
 "cells": [
  {
   "cell_type": "markdown",
   "metadata": {},
   "source": [
    "Introduction to GPU Programming Summer School\n",
    "========================\n",
    "\n",
    "D. Quigley, University of Warwick\n",
    "\n",
    "---\n",
    "\n",
    "# Tutorial 3: Memory\n",
    "\n",
    "Blurb to follow\n"
   ]
  },
  {
   "cell_type": "markdown",
   "metadata": {},
   "source": [
    "## Shared memory"
   ]
  },
  {
   "cell_type": "markdown",
   "metadata": {},
   "source": [
    "Import what we'll need for this example."
   ]
  },
  {
   "cell_type": "code",
   "execution_count": 1,
   "metadata": {},
   "outputs": [],
   "source": [
    "import numpy as np                 # Numpy\n",
    "from numba import cuda, float64    # Cuda and numba float64 datatype\n",
    "\n",
    "import matplotlib.pyplot as plt    # Matplotlib\n",
    "%matplotlib inline                 \n",
    "\n",
    "from timeit import default_timer as timer  # Timer"
   ]
  },
  {
   "cell_type": "markdown",
   "metadata": {},
   "source": [
    "Consider the following kernel. This evolves a point on a 2D grid forward in time according to a simple finite-difference scheme for numerically solving the diffusion equation.\n",
    "\n",
    "$$ U^{n+1}_{i,j} = U^{n}_{i,j} + D \\delta t\\left[\\frac{ U^{n}_{i-1,j} - 2 U^{n}_{i,j} + U^{n}_{i+1,j} }{{\\delta x}^2} + \\frac{ U^{n}_{i,j-1} - 2 U^{n}_{i,j} + U^{n}_{i,j+1} }{{\\delta y}^2} \\right] $$\n",
    "\n",
    "Here $U$ is some function which obeys the diffusion equation, and $D$ is the diffusion coefficient. Grid spacings are  $\\delta x$ and $\\delta y$ and time is evolved forward in steps of $\\delta t$."
   ]
  },
  {
   "cell_type": "code",
   "execution_count": 2,
   "metadata": {},
   "outputs": [],
   "source": [
    "@cuda.jit\n",
    "def diffusion_kernel(D, invdx2, invdy2, dt, d_u, d_u_new):\n",
    "    \"\"\"\n",
    "    Simple kernel to evolve a function U forward in time according to an explicit FTCS\n",
    "    finite difference scheme. Arguments are...\n",
    "    \n",
    "    D       : Diffusion coefficient\n",
    "    invdx2  : 1/(dx^2) where dx is the grid spacing in the x direction \n",
    "    invdy2  : 1/(dy^2) where dy is the grid spacing in the y direction\n",
    "    dt      : time step\n",
    "    d_u     : Device array storing U at the current time step\n",
    "    d_u_new : Device array storing U at the next time step\n",
    "    \"\"\"\n",
    "    \n",
    "    # Which row and column on the simulation grid should this thread use\n",
    "    row = cuda.threadIdx.y + cuda.blockIdx.y * cuda.blockDim.y\n",
    "    col = cuda.threadIdx.x + cuda.blockIdx.x * cuda.blockDim.x\n",
    "    \n",
    "    # Check that the inex\n",
    "    if row < d_u.shape[0] and col < d_u.shape[1]:\n",
    "    \n",
    "        # Neighbour cells using period boundary conditions\n",
    "        up   = (row + 1)%d_u.shape[0]\n",
    "        down = (row - 1)%d_u.shape[0]\n",
    "    \n",
    "        left  = (col - 1)%d_u.shape[1]\n",
    "        right = (col + 1)%d_u.shape[1]\n",
    "        \n",
    "        # Compute second derivatives of u w.r.t. x and y\n",
    "        d2udx2 = (d_u[row,left]  - 2.0*d_u[row,col] + d_u[row,right])*invdx2\n",
    "        d2udy2 = (d_u[down,col]  - 2.0*d_u[row,col] + d_u[up,col])*invdy2\n",
    "    \n",
    "        # Populate u_new with the time-evolved function\n",
    "        d_u_new[row, col] = d_u[row, col] + D * dt * ( d2udx2 + d2udy2) "
   ]
  },
  {
   "cell_type": "markdown",
   "metadata": {},
   "source": [
    "We'll need some parameters/data to play with..."
   ]
  },
  {
   "cell_type": "code",
   "execution_count": 3,
   "metadata": {},
   "outputs": [
    {
     "data": {
      "image/png": "[encoded data removed]",
      "text/plain": [
       "<matplotlib.figure.Figure at 0x7f65799d7dd8>"
      ]
     },
     "metadata": {},
     "output_type": "display_data"
    }
   ],
   "source": [
    "# Create an empty array\n",
    "dim = 1920\n",
    "c = np.zeros((dim, dim))\n",
    "\n",
    "# Fill the middle of the grid with a concentration of 1.0\n",
    "for irow in range(c.shape[0] // 4, 3*c.shape[0] // 4):\n",
    "    for icol in range(c.shape[1] // 4, 3*c.shape[1] // 4):\n",
    "        c[irow, icol] = 1.0\n",
    "        \n",
    "# We want this to represent a square domain spanning 0 -> 1 in each direction\n",
    "domain = [0.0, 1.0, 0.0, 1.0]\n",
    "                                        \n",
    "D = 1.0  # Diffusion coefficient\n",
    "\n",
    "x_spacing = 1.0/float(c.shape[0])\n",
    "y_spacing = 1.0/float(c.shape[1])\n",
    "\n",
    "# Store spacing as inverse square to avoid repeated division\n",
    "inv_xspsq = 1.0/(x_spacing**2)\n",
    "inv_yspsq = 1.0/(y_spacing**2)\n",
    "\n",
    "# Satisfy stability condition \n",
    "time_step = 0.25*min(x_spacing,y_spacing)**2\n",
    "                \n",
    "# Plot \n",
    "fig = plt.figure(figsize = [6, 6])\n",
    "plt.imshow(c,cmap='jet',extent=domain);"
   ]
  },
  {
   "cell_type": "markdown",
   "metadata": {},
   "source": [
    "We've now got everything we need to use `diffusion_kernel` to evolve this initial condition forward in time on the GPU. Let's time this and examine the output. Note that I've been careful here to ensure that the grid size is an exact multiple of the number of threads in a block."
   ]
  },
  {
   "cell_type": "code",
   "execution_count": 4,
   "metadata": {},
   "outputs": [],
   "source": [
    "# Copy this array to the device, and create a new device array to hold updated value\n",
    "d_c = cuda.to_device(c)\n",
    "d_c_new = cuda.device_array(c.shape, dtype=np.float)"
   ]
  },
  {
   "cell_type": "code",
   "execution_count": 46,
   "metadata": {},
   "outputs": [
    {
     "name": "stdout",
     "output_type": "stream",
     "text": [
      "Simulation took 5043.265406 milliseconds using simple kernel\n"
     ]
    }
   ],
   "source": [
    "threads_per_block = (32, 32)\n",
    "blocks_per_grid   = (dim//32, dim//32)\n",
    "\n",
    "start = timer()  # Start timer\n",
    "\n",
    "# Evolve forward 2000 steps\n",
    "for step in range(2000):\n",
    "\n",
    "    # Launch the kernel    \n",
    "    diffusion_kernel[blocks_per_grid,threads_per_block](D, inv_xspsq, inv_yspsq, time_step, d_c, d_c_new)\n",
    "\n",
    "    # Swap the identit of the old and new device arrays\n",
    "    d_c, d_c_new = d_c_new, d_c\n",
    "       \n",
    "elapsed_time = (timer() - start)*1000.0\n",
    "print(\"Simulation took %f milliseconds using simple kernel\" % elapsed_time)"
   ]
  },
  {
   "cell_type": "code",
   "execution_count": 6,
   "metadata": {},
   "outputs": [
    {
     "data": {
      "image/png": "[encoded data removed]",
      "text/plain": [
       "<matplotlib.figure.Figure at 0x7f6579abd0b8>"
      ]
     },
     "metadata": {},
     "output_type": "display_data"
    }
   ],
   "source": [
    "# Copy the current concentration from the device to the host\n",
    "c = d_c.copy_to_host()\n",
    "\n",
    "# Display the current concentration profile\n",
    "fig = plt.figure(figsize = [6, 6])\n",
    "plt.imshow(c,cmap='jet',extent=[0.0, 1.0, 0.0, 1.0]);"
   ]
  },
  {
   "cell_type": "markdown",
   "metadata": {},
   "source": [
    "The performance of this kernel is okay, but we can do better.\n",
    "\n",
    "Consider the part of the kernel which reads from the device array d_u.\n",
    "\n",
    "```python\n",
    "        # Compute second derivatives of u w.r.t. x and y\n",
    "        d2udx2 = (d_u[row,left]  - 2.0*d_u[row,col] + d_u[row,right])*invdx2\n",
    "        d2udy2 = (d_u[down,col]  - 2.0*d_u[row,col] + d_u[up,col])*invdy2\n",
    "    \n",
    "        # Populate u_new with the time-evolved function\n",
    "        d_u_new[row, col] = d_u[row, col] + D * dt * ( d2udx2 + d2udy2) \n",
    "```\n",
    "Each instance of the kernel (i.e. each thread) needs to load five entries from the array ```d_u``` in device global memory.  Loads from memory are slow compared to compute operations, so there's a good chance these loads account for a significant fraction of the time measured.\n",
    "\n",
    "We can improve this by recognising that other threads within the same thread block will also need some of these  five entries. If those threads can *share* the data that is loaded from global memory then we'd cut down on the number of loads needed. This is what shared memory is used for - a local (but limited in size) on-chip cache where we can store data which multiple threads within the block will need.\n",
    "\n",
    "Consider the following kernel. Here threads in blocks of 32 x 32 each load one element from global memory into shared memory. To avoid needing data outside of the shared memory array, only the interior 30 x 30 threads perform computation."
   ]
  },
  {
   "cell_type": "code",
   "execution_count": 7,
   "metadata": {},
   "outputs": [],
   "source": [
    "@cuda.jit\n",
    "def diffusion_kernel_shared(D, invdx2, invdy2, dt, d_u, d_u_new):\n",
    "    \"\"\"\n",
    "    Kernel to evolve a function U forward in time according to an explicit FTCS\n",
    "    finite difference scheme. Shared memory is used. Arguments are...\n",
    "    \n",
    "    D       : Diffusion coefficient\n",
    "    invdx2  : 1/(dx^2) where dx is the grid spacing in the x direction \n",
    "    invdy2  : 1/(dy^2) where dy is the grid spacing in the y direction\n",
    "    dt      : time step\n",
    "    d_u     : Device array storing U at the current time step\n",
    "    d_u_new : Device array storing U at the next time step\n",
    "    \"\"\"\n",
    "    \n",
    "    # Shared array large enough to store 30x30 block + \"halo\" of boundary neighbours\n",
    "    # N.B. the size of the shared array is set at compile time, but see also \n",
    "    # https://stackoverflow.com/questions/30510580/numba-cuda-shared-memory-size-at-runtime\n",
    "    u_sh = cuda.shared.array((32, 32), dtype=float64)\n",
    "    \n",
    "    # Row and column in global matrix - 32 x 32 grid including halo\n",
    "    row = cuda.threadIdx.y + cuda.blockIdx.y * ( cuda.blockDim.y - 2 ) - 1\n",
    "    col = cuda.threadIdx.x + cuda.blockIdx.x * ( cuda.blockDim.x - 2 ) - 1\n",
    "    \n",
    "    # Row and column in shared memory tile\n",
    "    sh_row = cuda.threadIdx.y\n",
    "    sh_col = cuda.threadIdx.x\n",
    "    \n",
    "    # Apply periodic boundary conditions\n",
    "    row = row%d_u.shape[0]\n",
    "    col = col%d_u.shape[1]\n",
    "    \n",
    "    # Copy from device memory to shared memory\n",
    "    u_sh[sh_row, sh_col] = d_u[row, col]\n",
    "    \n",
    "    # Do not proceed until all threads reach this point\n",
    "    cuda.syncthreads()\n",
    "    \n",
    "    # Only threads which belong to the interior 30 x 30 grid compute\n",
    "    # (The other 32^2 - 30^30 = 124 threads do nothing)\n",
    "    if sh_row > 0 and sh_row < 31 and sh_col > 0 and sh_col < 31:\n",
    "        \n",
    "        left  = sh_col - 1\n",
    "        right = sh_col + 1\n",
    "        \n",
    "        up   = sh_row + 1\n",
    "        down = sh_row - 1 \n",
    "        \n",
    "        d2udx2 = (u_sh[sh_row, left]  - 2.0*u_sh[sh_row, sh_col] + u_sh[sh_row, right])*invdx2\n",
    "        d2udy2 = (u_sh[down, sh_col]  - 2.0*u_sh[sh_row, sh_col] + u_sh[up, sh_col])*invdy2\n",
    "    \n",
    "        d_u_new[row, col] = u_sh[sh_row, sh_col] + D * dt * ( d2udx2 + d2udy2)  \n",
    "    \n",
    "    u_sh = None"
   ]
  },
  {
   "cell_type": "markdown",
   "metadata": {},
   "source": [
    "Each thread now only performs one load from global memory, but we'll need to launch more blocks to cover the grid.\n",
    "\n",
    "Let's see if this works. Reset to the initial condition..."
   ]
  },
  {
   "cell_type": "code",
   "execution_count": 8,
   "metadata": {},
   "outputs": [],
   "source": [
    "# Create an empty array\n",
    "dim = 1920\n",
    "c = np.zeros((dim, dim))\n",
    "\n",
    "# Fill the middle of the grid with a concentration of 1.0\n",
    "for irow in range(c.shape[0] // 4, 3*c.shape[0] // 4):\n",
    "    for icol in range(c.shape[1] // 4, 3*c.shape[1] // 4):\n",
    "        c[irow, icol] = 1.0\n",
    "        \n",
    "d_c = cuda.to_device(c)"
   ]
  },
  {
   "cell_type": "markdown",
   "metadata": {},
   "source": [
    "...and launch the new kernel, being careful to use more blocks than before to cover the grid."
   ]
  },
  {
   "cell_type": "code",
   "execution_count": 47,
   "metadata": {},
   "outputs": [
    {
     "name": "stdout",
     "output_type": "stream",
     "text": [
      "Simulation took 3766.357676 milliseconds using kernel with shared memory\n"
     ]
    }
   ],
   "source": [
    "threads_per_block = (32, 32)\n",
    "blocks_per_grid   = (dim//30, dim//30)\n",
    "\n",
    "start = timer()\n",
    "\n",
    "# Evolve forward 2000 steps\n",
    "for step in range(2000):\n",
    "\n",
    "    # Launch the kernel    \n",
    "    diffusion_kernel_shared[blocks_per_grid,threads_per_block](D, inv_xspsq, inv_yspsq, time_step, d_c, d_c_new)\n",
    " \n",
    "    # Swap the identit of the old and new device arrays\n",
    "    d_c, d_c_new = d_c_new, d_c\n",
    "    \n",
    "t = (timer() - start)*1000.0\n",
    "\n",
    "elapsed_time = (timer() - start)*1000.0\n",
    "print(\"Simulation took %f milliseconds using kernel with shared memory\" % elapsed_time)"
   ]
  },
  {
   "cell_type": "code",
   "execution_count": 10,
   "metadata": {},
   "outputs": [
    {
     "data": {
      "image/png": "[encoded data removed]",
      "text/plain": [
       "<matplotlib.figure.Figure at 0x7f6571527470>"
      ]
     },
     "metadata": {},
     "output_type": "display_data"
    }
   ],
   "source": [
    "# Copy the current concentration from the device to the host\n",
    "c = d_c.copy_to_host()\n",
    "\n",
    "# Display the current concentration profile\n",
    "fig = plt.figure(figsize = [6, 6])\n",
    "plt.imshow(c,cmap='jet',extent=[0.0, 1.0, 0.0, 1.0]);"
   ]
  },
  {
   "cell_type": "markdown",
   "metadata": {},
   "source": [
    "When testing this resulted in a saving of approximately 25%, despite the fact that we're not using all of the threads in a block to do computation. The saving on loads from global memory has more than offset that."
   ]
  },
  {
   "cell_type": "markdown",
   "metadata": {},
   "source": [
    "## Exercises\n",
    "\n",
    "* How do these kernels perform relative to the corresponding CPU implementation? Use the Tinis GPU node to gather your benchmarks and remember to take averages excluding compilation.\n",
    "\n",
    "* How does the benefit gained from using shared memory to eliminate redundant loads vary with the size of the grid and the number of timesteps simulated?\n",
    "\n",
    "* (Advanced) How does the balance between use of shared memory and threads idle during computation change when moving from 2D to 3D?\n",
    "\n",
    "* (Very advanced) Can you create a kernel for this problem which exploits the use of shared memory without leaving any threads idle during computation? "
   ]
  },
  {
   "cell_type": "markdown",
   "metadata": {},
   "source": [
    "---"
   ]
  },
  {
   "cell_type": "markdown",
   "metadata": {},
   "source": [
    "## Atomic operations\n",
    "\n",
    "Shared memory can also be used if wanting multiple threads to read/write to the same variable without going to global memory. This raises the issue of contention and possible race conditions.\n",
    "\n",
    "Consider the following which sums over the elements in each row of an array"
   ]
  },
  {
   "cell_type": "code",
   "execution_count": 51,
   "metadata": {},
   "outputs": [],
   "source": [
    "@cuda.jit\n",
    "def sum_row(d_a, d_sum):\n",
    "    \"\"\"Given a device array a, calculate the sum over elements in each row.\"\"\"\n",
    "\n",
    "    # Get row and column of current element\n",
    "    row = cuda.threadIdx.y    + cuda.blockIdx.y * cuda.blockDim.y\n",
    "    column = cuda.threadIdx.x + cuda.blockIdx.x * cuda.blockDim.x\n",
    "    \n",
    "    if (row < d_a.shape[0]):\n",
    "        if column == 0 :                   \n",
    "            d_sum[row] = 0.0 # First thread in row initialises sum\n",
    "    \n",
    "    if (row < d_a.shape[0]):\n",
    "        if column < d_a.shape[1]:\n",
    "            #cuda.atomic.add(d_sum, row , d_a[row, column])\n",
    "            d_sum[row] += d_a[row, column]"
   ]
  },
  {
   "cell_type": "markdown",
   "metadata": {},
   "source": [
    "Let's test this on a trivial array"
   ]
  },
  {
   "cell_type": "code",
   "execution_count": 52,
   "metadata": {},
   "outputs": [
    {
     "data": {
      "text/plain": [
       "array([[ 0.4109009 ,  0.32985664],\n",
       "       [ 0.7324165 ,  0.03337033],\n",
       "       [ 0.09103772,  0.27676996]])"
      ]
     },
     "execution_count": 52,
     "metadata": {},
     "output_type": "execute_result"
    }
   ],
   "source": [
    "# Generate random 3 x 2 array\n",
    "my_array = np.random.rand(3, 2)\n",
    "my_array"
   ]
  },
  {
   "cell_type": "code",
   "execution_count": 53,
   "metadata": {},
   "outputs": [
    {
     "data": {
      "text/plain": [
       "array([ 0.74075754,  0.76578683,  0.36780768])"
      ]
     },
     "execution_count": 53,
     "metadata": {},
     "output_type": "execute_result"
    }
   ],
   "source": [
    "# Calculate sum over elements in each row (axis = 1 means sum over columns)\n",
    "np.sum(my_array, axis=1)"
   ]
  },
  {
   "cell_type": "markdown",
   "metadata": {},
   "source": [
    "Do the same calculation using our new kernel"
   ]
  },
  {
   "cell_type": "code",
   "execution_count": 54,
   "metadata": {},
   "outputs": [
    {
     "data": {
      "text/plain": [
       "array([ 0.32985664,  0.03337033,  0.27676996])"
      ]
     },
     "execution_count": 54,
     "metadata": {},
     "output_type": "execute_result"
    }
   ],
   "source": [
    "# Copy data to device and create new array for output\n",
    "d_my_array = cuda.to_device(my_array)\n",
    "d_my_sum   = cuda.device_array(3, dtype=np.float64)\n",
    "\n",
    "# Launch a single thread block of 2 x 3 threads\n",
    "sum_row[(1, 1), (2, 3)](d_my_array, d_my_sum)\n",
    "\n",
    "# Copy result back and print it\n",
    "my_sum = d_my_sum.copy_to_host()\n",
    "my_sum"
   ]
  },
  {
   "cell_type": "markdown",
   "metadata": {},
   "source": [
    "Panic - this hasn't given us the correct result. What could be wrong? \n",
    "\n",
    "The problem is a *race condition*. There is nothing stopping threads in columns other than column 0 from adding in their contribution to the sum before it has been initialised. \n",
    "\n",
    "Similarly if a thread A must the current value of the sum before adding its own contribution. If another thread B changes the sum after A has read the old value, but before A writes the result of its sum, A will be working with a *stale* value and get the wrong result.\n",
    "\n",
    "We can take steps to fix this..."
   ]
  },
  {
   "cell_type": "code",
   "execution_count": 56,
   "metadata": {},
   "outputs": [],
   "source": [
    "@cuda.jit\n",
    "def sum_row_v2(d_a, d_sum):\n",
    "    \"\"\"Given a device array a, calculate the sum over elements in each row.\"\"\"\n",
    "\n",
    "    # Get row and column of current element\n",
    "    row = cuda.threadIdx.y    + cuda.blockIdx.y * cuda.blockDim.y\n",
    "    column = cuda.threadIdx.x + cuda.blockIdx.x * cuda.blockDim.x\n",
    "    \n",
    "    if (row < d_a.shape[0]):\n",
    "        if column == 0 :                   \n",
    "            d_sum[row] = 0.0 # First thread in row initialises sum\n",
    "    \n",
    "    # No thread can pass this point until all threads reach this statement\n",
    "    cuda.syncthreads()\n",
    "    \n",
    "    if (row < d_a.shape[0]):\n",
    "        if column < d_a.shape[1]:\n",
    "            \n",
    "            # Add to element 'row' of array d_sum\n",
    "            cuda.atomic.add(d_sum, row , d_a[row, column])"
   ]
  },
  {
   "cell_type": "markdown",
   "metadata": {},
   "source": [
    "Here we've used an *atomic operation* - in this case the operation 'sum'. Atomics prevent more than one thread at a time being able to read/write from a particular memory location. They act like a thread lock. Other operations than sum are available. See [the documentation](https://numba.pydata.org/numba-doc/dev/cuda/intrinsics.html).\n",
    "\n",
    "We've also use ```cuda.syncthreads()``` to ensure no thread writes to the sum before it it initialised.\n",
    "\n",
    "Let's check that we get the correct answer this time..."
   ]
  },
  {
   "cell_type": "code",
   "execution_count": 57,
   "metadata": {},
   "outputs": [
    {
     "data": {
      "text/plain": [
       "array([ 0.74075754,  0.76578683,  0.36780768])"
      ]
     },
     "execution_count": 57,
     "metadata": {},
     "output_type": "execute_result"
    }
   ],
   "source": [
    "# Copy data to device and create new array for output\n",
    "d_my_array = cuda.to_device(my_array)\n",
    "d_my_sum   = cuda.device_array(3, dtype=np.float64)\n",
    "\n",
    "# Launch a single thread block of 2 x 3 threads\n",
    "sum_row_v2[(1, 1), (2, 3)](d_my_array, d_my_sum)\n",
    "\n",
    "# Copy result back and print it\n",
    "my_sum = d_my_sum.copy_to_host()\n",
    "my_sum"
   ]
  },
  {
   "cell_type": "markdown",
   "metadata": {},
   "source": [
    "Phew. Be aware that use of atomics slows code down drastically. They effectively serialise the operations they perform. \n",
    "\n",
    "We can also use atomics on shared memory if we want to reduce access to global memory, but we need to be aware that shared memory only persists for the lifetime of the thread block and so any result must be written back to global memory once computed."
   ]
  },
  {
   "cell_type": "code",
   "execution_count": 16,
   "metadata": {},
   "outputs": [],
   "source": [
    "@cuda.jit\n",
    "def sum_row_v3(d_a, d_sum):\n",
    "    \"\"\"Given a device array a, calculate the sum over elements in each row.\"\"\"\n",
    "\n",
    "    # Get row and column of current element\n",
    "    row = cuda.threadIdx.y + cuda.blockIdx.y * cuda.blockDim.y\n",
    "    column = cuda.threadIdx.x + cuda.blockIdx.x * cuda.blockDim.x\n",
    "    \n",
    "    # Create shared memory array to use for summation\n",
    "    sum_sh = cuda.shared.array(3, dtype=float64)\n",
    "    \n",
    "    if (row < d_a.shape[0]):\n",
    "        if column == 0 :                   \n",
    "            sum_sh[row] = 0.0 # First thread in row initialises sum\n",
    "\n",
    "    cuda.syncthreads()\n",
    "    \n",
    "    if (row < d_a.shape[0]):\n",
    "        if column < d_a.shape[1]:\n",
    "            \n",
    "            # Add to element 'row' of array sum_sh. Note that we \n",
    "            # don't need to read from global memory anymore\n",
    "            cuda.atomic.add(sum_sh, row , d_a[row, column])\n",
    "            \n",
    "    cuda.syncthreads()\n",
    "           \n",
    "    # Write result to global memory\n",
    "    if (row < d_a.shape[0]):        \n",
    "        if column == 0 : d_sum[row] = sum_sh[row]"
   ]
  },
  {
   "cell_type": "markdown",
   "metadata": {},
   "source": [
    "Let's check that this still works..."
   ]
  },
  {
   "cell_type": "code",
   "execution_count": 61,
   "metadata": {},
   "outputs": [
    {
     "data": {
      "text/plain": [
       "array([ 0.74075754,  0.76578683,  0.36780768])"
      ]
     },
     "execution_count": 61,
     "metadata": {},
     "output_type": "execute_result"
    }
   ],
   "source": [
    "# Copy data to device and create new array for output\n",
    "d_my_array = cuda.to_device(my_array)\n",
    "d_my_sum   = cuda.device_array(3, dtype=np.float64)\n",
    "\n",
    "# Launch a single thread block of 2 x 3 threads\n",
    "sum_row_v3[(1, 1), (2, 3)](d_my_array, d_my_sum)\n",
    "\n",
    "# Copy result back and print it\n",
    "my_sum = d_my_sum.copy_to_host()\n",
    "my_sum"
   ]
  },
  {
   "cell_type": "markdown",
   "metadata": {},
   "source": [
    "## Exercise\n",
    "\n",
    "* The kernel used in ```sum_row_v3``` above will only work as advertised if the array we want to sum over fits within a single thread block. Create a new kernel which will work for arrays of any size and test your result against the sum method of a numpy array on the CPU."
   ]
  },
  {
   "cell_type": "markdown",
   "metadata": {},
   "source": [
    "---\n",
    "\n",
    "## Constant memory"
   ]
  },
  {
   "cell_type": "markdown",
   "metadata": {},
   "source": [
    "For our final example we'll do something a bit more substantial for which we might expect to see a significant benefit from using a GPU. Imagine we have a function of three variables $f(x,y,z)$ which is defined as a sum over Gaussians centered on $P$ different points $\\{x_{i},y_{i},z_{i}\\}$. We are only interested in the function between -10 and +10 in each direction.\n",
    "\n",
    "$$f(x,y,z) = \\sum_{i=1}^{P}A\\exp\\left\\{-w\\left[\\left(x-x_{i}\\right)^2+\\left(y-y_{i}\\right)^2+\\left(z-z_{i}\\right)^2\\right]\\right\\}$$\n",
    "\n",
    "Our goal is to integrate out (numerically) one of the dimensions and obtain a two-dimensional function\n",
    "\n",
    "$$g(x,y) = \\int_{-10}^{10}\\exp\\left[f(x,y,z)\\right] dz.$$\n",
    "\n",
    "To compute this function on a $N_{grid} \\times N_{grid}$ mesh in the $x,y$ plane, we must perform the above integration over $z$ at each point. For simplicity we will integrate numerically over $N_{grid}$ points in the $z$ direction using the trapezoidal rule. We must therefore evaluate the function a total of $N_{grid}^3 $ times which quickly becomes expensive as the size of the grid increases.\n",
    "\n",
    "Exactly this problem can arise in molecular simulation when attempting to create a two-dimensional probability density plot from a reconstructed free energy. For anyone intersted, $f(x,y,z)$ is a free energy reconstructed from the points $\\{x_{i},y_{i},z_{i}\\}$ visited during a molecular dynamics simulation. $x,y$ and $z$ are themselves functions of atomic coordinates, such as the end-to-end distance of a polymer, or the number of hydrogen bonds in a system. "
   ]
  },
  {
   "cell_type": "markdown",
   "metadata": {},
   "source": [
    "```C\n",
    "/*================================================\n",
    "  This program uses the data and functions above \n",
    "  module above to compute the two-dimensional \n",
    "  function g(x,y). Note that we store the function \n",
    "  in a long vector of length Ngrid*Ngrid rather \n",
    "  than in a 2D matrix.\n",
    "!===============================================*/\n",
    "int main () {\n",
    "\n",
    "  // Extend of domain in each dimension\n",
    "  float gridMax =  10.0f;\n",
    "  float gridMin = -10.0f;\n",
    "\n",
    "  // Number of grid points in each dimension\n",
    "  int Ngrid = 128;\n",
    "\n",
    "  // Array to hold set of P points on the host\n",
    "  float *tmpPoints;\n",
    "\n",
    "  // Memory for g on the host\n",
    "  float *g_host;\n",
    "\n",
    "  // Memory for g on the device\n",
    "  float *g_dev;\n",
    "\n",
    "  // Variables to hold the dimensions of the block\n",
    "  // and thread grids. The dim3 type is provided in cuda.h\n",
    "  int blocksPerGrid,threadsPerBlock;\n",
    "  dim3 blocks,threads;\n",
    "\n",
    "  // cudaError_t is a type defined in cuda.h\n",
    "  cudaError_t err;\n",
    "\n",
    "  int i,j,igrid,jgrid,count,idev;\n",
    "  float x;\n",
    "\n",
    "  // Make sure we have a CUDA capable device to work with\n",
    "  err = cudaGetDeviceCount(&count);\n",
    "  if ( (count==0) || (err!=cudaSuccess) ) {\n",
    "    printf(\"No CUDA supported devices are available in this system.\\n\");\n",
    "    exit(EXIT_FAILURE);\n",
    "  } else {\n",
    "    printf(\"Found %d CUDA devices in this system\\n\",count);\n",
    "  }\n",
    "\n",
    "  err = cudaGetDevice(&idev);\n",
    "  if ( err!=cudaSuccess ) {\n",
    "    printf(\"Error identifying active device\\n\");\n",
    "    exit(EXIT_FAILURE);\n",
    "  }\n",
    "  printf(\"Using device %d\\n\",idev);\n",
    "\n",
    "  // Allocate memory for points on the host\n",
    "  tmpPoints = (float *)malloc(3*P*sizeof(float));\n",
    "\n",
    "  // Populate tmpPoints with random numbers between -10 and 10\n",
    "  for (i=0;i<P;i++) {\n",
    "    for (j=0;j<3;j++) {\n",
    "      x = rand()/(float)RAND_MAX;\n",
    "      tmpPoints[3*i+j] = gridMin + (gridMax-gridMin)*x;\n",
    "    }\n",
    "  }\n",
    "\n",
    "  // Copy from tmpPoints on the host to points on the device\n",
    "  err = cudaMemcpyToSymbol(points,tmpPoints,3*P*sizeof(float));\n",
    "  if ( err!=cudaSuccess ) {\n",
    "    printf(\"Error copying points to device\\n\");\n",
    "    exit(EXIT_FAILURE);\n",
    "  }\n",
    "\n",
    "  printf(\"Copied array of points to device memory\\n\");\n",
    "\n",
    "  // Release memory on the host\n",
    "  free(tmpPoints);\n",
    "\n",
    "  // Allocate memory for g on the device and zero it out\n",
    "  err = cudaMalloc(&g_dev,Ngrid*Ngrid*sizeof(float));\n",
    "  if ( err!=cudaSuccess ) {\n",
    "    printf(\"Error allocating memory for g_dev on device\\n\");\n",
    "    exit(EXIT_FAILURE);\n",
    "  }\n",
    "  cudaMemset(g_dev,0,Ngrid*Ngrid*sizeof(float));\n",
    "\n",
    "  // Allocate memory for g on the host and zero it out\n",
    "  g_host = (float *)malloc(Ngrid*Ngrid*sizeof(float));\n",
    "  memset(g_host,0,Ngrid*Ngrid*sizeof(float));\n",
    "\n",
    "  // We want a thread running the integrate1D kernel for every\n",
    "  // point in g_dev that we want to evaluate. \n",
    "  // Pick a sensible block size\n",
    "  blocksPerGrid   = 10;\n",
    " \n",
    "  // Calculate the number of threads per block to make up the\n",
    "  // entire grid of Ngrid*Ngrid threads\n",
    "  threadsPerBlock = Ngrid/blocksPerGrid;\n",
    "  if (Ngrid%blocksPerGrid!=0) { threadsPerBlock += 1; }\n",
    "\n",
    "  // Multidimensional grid dimensions, use the dim3 type\n",
    "  blocks.x  = blocksPerGrid   ; blocks.y  = blocksPerGrid   ; blocks.z  = 1;\n",
    "  threads.x = threadsPerBlock ; threads.y = threadsPerBlock ; threads.z = 1;\n",
    "\n",
    "  // Launch our kernel to compute g_dev on the device\n",
    "  printf(\"Using block grid dimensions of %d by %d\\n\",blocks.x,blocks.y);\n",
    "  printf(\"Thread grid within a block is  %d by %d\\n\",threads.x,threads.y);\n",
    "\n",
    "  clock_t t1 = clock();\n",
    "\n",
    "  printf(\"Launching %d threads\\n\",blocks.x*blocks.y*threads.x*threads.y);\n",
    "\n",
    "  integrate1D<<<blocks,threads>>>(gridMin,gridMax,Ngrid,g_dev);\n",
    "  cudaThreadSynchronize();\n",
    "\n",
    "  clock_t t2 = clock();\n",
    "\n",
    "  // Copy from the device to the host\n",
    "  err = cudaMemcpy(g_host,g_dev,Ngrid*Ngrid*sizeof(float),cudaMemcpyDeviceToHost);\n",
    "  if ( err != cudaSuccess ) {\n",
    "    printf(\"Error copying g from device to host\\n\");\n",
    "    exit(EXIT_FAILURE);\n",
    "  }\n",
    "\n",
    "  printf(\"Time taken on GPU = %f seconds\\n\",(double)(t2-t1)/(double)CLOCKS_PER_SEC);\n",
    "\n",
    "  // print some sample points\n",
    "  for (i=0;i<2;i++) {\n",
    "    for (j=0;j<2;j++) {\n",
    "      igrid = (i+1)*Ngrid/2-1;\n",
    "      jgrid = (j+1)*Ngrid/2-1;\n",
    "      printf(\"g(%d,%d) = %f\\n\",igrid,jgrid,g_host[igrid*Ngrid+jgrid]);\n",
    "    }\n",
    "  }\n",
    "\n",
    "  // Release device memory\n",
    "  cudaFree(g_dev);\n",
    "  cudaFree(points);\n",
    "\n",
    "  // Release host memory\n",
    "  free(g_host);\n",
    "\n",
    "  return 0;\n",
    "\n",
    "}\n",
    "```"
   ]
  },
  {
   "cell_type": "code",
   "execution_count": null,
   "metadata": {},
   "outputs": [],
   "source": []
  }
 ],
 "metadata": {
  "kernelspec": {
   "display_name": "Python 3",
   "language": "python",
   "name": "python3"
  },
  "language_info": {
   "codemirror_mode": {
    "name": "ipython",
    "version": 3
   },
   "file_extension": ".py",
   "mimetype": "text/x-python",
   "name": "python",
   "nbconvert_exporter": "python",
   "pygments_lexer": "ipython3",
   "version": "3.6.3"
  }
 },
 "nbformat": 4,
 "nbformat_minor": 2
}
