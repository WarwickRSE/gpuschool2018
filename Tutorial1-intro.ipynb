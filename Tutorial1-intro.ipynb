{
 "cells": [
  {
   "cell_type": "markdown",
   "metadata": {},
   "source": [
    "# Introduction to GPU Programming Summer School\n",
    "## Tutorial 1. Using CUDA accelerated libraries"
   ]
  },
  {
   "cell_type": "markdown",
   "metadata": {},
   "source": [
    "### Step 1 : Sanity check of Python environment"
   ]
  },
  {
   "cell_type": "markdown",
   "metadata": {},
   "source": [
    "All being well, you've reading this text inside a Jupyter notebook environment running on an SCRTP machine equipped with a CUDA-compatible GPU card and have launched the notebook from within an environment configured to support GPU computing. If in doubt, check the connecting instructions.\n",
    "\n",
    "https://warwick.ac.uk/fac/sci/maths/research/events/2017-18/nonsymposium/gpu/connecting\n"
   ]
  },
  {
   "cell_type": "markdown",
   "metadata": {},
   "source": [
    "Let's run some simpple checks to make sure you can execute code on a GPU from within this notebook. For today we'll be working with the Python interface to CUDA provided via the numba package."
   ]
  },
  {
   "cell_type": "code",
   "execution_count": 5,
   "metadata": {},
   "outputs": [
    {
     "name": "stdout",
     "output_type": "stream",
     "text": [
      "Found 2 CUDA devices\n",
      "id 0           b'Tesla K20c'                              [SUPPORTED]\n",
      "                      compute capability: 3.5\n",
      "                           pci device id: 0\n",
      "                              pci bus id: 4\n",
      "id 1              b'NVS 310'                              [SUPPORTED]\n",
      "                      compute capability: 2.1\n",
      "                           pci device id: 0\n",
      "                              pci bus id: 3\n",
      "Summary:\n",
      "\t2/2 devices are supported\n"
     ]
    }
   ],
   "source": [
    "from numba import cuda   # Import Numba\n",
    "\n",
    "if cuda.is_available():  # Test if CUDA is available on this system\n",
    "    cuda.detect()        # and report on the hardware available\n",
    "else:\n",
    "    print(\"There doesn't appear to be a CUDA capable device in this system\")"
   ]
  },
  {
   "cell_type": "code",
   "execution_count": null,
   "metadata": {},
   "outputs": [],
   "source": [
    "\n"
   ]
  },
  {
   "cell_type": "code",
   "execution_count": null,
   "metadata": {},
   "outputs": [],
   "source": []
  }
 ],
 "metadata": {
  "kernelspec": {
   "display_name": "Python 3",
   "language": "python",
   "name": "python3"
  },
  "language_info": {
   "codemirror_mode": {
    "name": "ipython",
    "version": 3
   },
   "file_extension": ".py",
   "mimetype": "text/x-python",
   "name": "python",
   "nbconvert_exporter": "python",
   "pygments_lexer": "ipython3",
   "version": "3.6.3"
  }
 },
 "nbformat": 4,
 "nbformat_minor": 2
}
